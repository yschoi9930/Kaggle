{
 "cells": [
  {
   "cell_type": "code",
   "execution_count": 1,
   "id": "dda54391",
   "metadata": {
    "_cell_guid": "b1076dfc-b9ad-4769-8c92-a6c4dae69d19",
    "_uuid": "8f2839f25d086af736a60e9eeb907d3b93b6e0e5",
    "execution": {
     "iopub.execute_input": "2023-12-04T15:00:49.427405Z",
     "iopub.status.busy": "2023-12-04T15:00:49.426958Z",
     "iopub.status.idle": "2023-12-04T15:00:49.782198Z",
     "shell.execute_reply": "2023-12-04T15:00:49.780233Z"
    },
    "papermill": {
     "duration": 0.363431,
     "end_time": "2023-12-04T15:00:49.785341",
     "exception": false,
     "start_time": "2023-12-04T15:00:49.421910",
     "status": "completed"
    },
    "tags": []
   },
   "outputs": [],
   "source": [
    "# This Python 3 environment comes with many helpful analytics libraries installed\n",
    "# It is defined by the kaggle/python Docker image: https://github.com/kaggle/docker-python\n",
    "# For example, here's several helpful packages to load\n",
    "\n",
    "import numpy as np # linear algebra\n",
    "import pandas as pd # data processing, CSV file I/O (e.g. pd.read_csv)\n",
    "\n",
    "# Input data files are available in the read-only \"../input/\" directory\n",
    "# For example, running this (by clicking run or pressing Shift+Enter) will list all files under the input directory\n",
    "\n",
    "import os\n",
    "for dirname, _, filenames in os.walk('/kaggle/input'):\n",
    "    for filename in filenames:\n",
    "        print(os.path.join(dirname, filename))\n",
    "\n",
    "# You can write up to 20GB to the current directory (/kaggle/working/) that gets preserved as output when you create a version using \"Save & Run All\" \n",
    "# You can also write temporary files to /kaggle/temp/, but they won't be saved outside of the current session"
   ]
  },
  {
   "cell_type": "markdown",
   "id": "73ac9a33",
   "metadata": {
    "papermill": {
     "duration": 0.00254,
     "end_time": "2023-12-04T15:00:49.793793",
     "exception": false,
     "start_time": "2023-12-04T15:00:49.791253",
     "status": "completed"
    },
    "tags": []
   },
   "source": [
    "# 환경설정"
   ]
  },
  {
   "cell_type": "code",
   "execution_count": 2,
   "id": "5989a6ba",
   "metadata": {
    "execution": {
     "iopub.execute_input": "2023-12-04T15:00:49.801976Z",
     "iopub.status.busy": "2023-12-04T15:00:49.801330Z",
     "iopub.status.idle": "2023-12-04T15:04:19.479897Z",
     "shell.execute_reply": "2023-12-04T15:04:19.478217Z"
    },
    "papermill": {
     "duration": 209.686323,
     "end_time": "2023-12-04T15:04:19.482728",
     "exception": false,
     "start_time": "2023-12-04T15:00:49.796405",
     "status": "completed"
    },
    "tags": []
   },
   "outputs": [
    {
     "name": "stdout",
     "output_type": "stream",
     "text": [
      "Cloning into 'RBALogin'...\r\n",
      "remote: Enumerating objects: 375, done.\u001b[K\r\n",
      "remote: Counting objects: 100% (59/59), done.\u001b[K\r\n",
      "remote: Compressing objects: 100% (26/26), done.\u001b[K\r\n",
      "remote: Total 375 (delta 32), reused 59 (delta 32), pack-reused 316\u001b[K\r\n",
      "Receiving objects: 100% (375/375), 1.15 GiB | 6.63 MiB/s, done.\r\n",
      "Resolving deltas: 100% (333/333), done.\r\n",
      "Updating files: 100% (45/45), done.\r\n"
     ]
    }
   ],
   "source": [
    "!git clone 'https://github.com/brynkim/RBALogin'"
   ]
  },
  {
   "cell_type": "code",
   "execution_count": 3,
   "id": "bc46e8e5",
   "metadata": {
    "execution": {
     "iopub.execute_input": "2023-12-04T15:04:19.525210Z",
     "iopub.status.busy": "2023-12-04T15:04:19.524807Z",
     "iopub.status.idle": "2023-12-04T15:04:19.536692Z",
     "shell.execute_reply": "2023-12-04T15:04:19.535722Z"
    },
    "papermill": {
     "duration": 0.036092,
     "end_time": "2023-12-04T15:04:19.539182",
     "exception": false,
     "start_time": "2023-12-04T15:04:19.503090",
     "status": "completed"
    },
    "tags": []
   },
   "outputs": [],
   "source": [
    "import pandas as pd\n",
    "import numpy as np\n",
    "import os\n",
    "import warnings\n",
    "from tqdm import tqdm, trange\n",
    "import glob"
   ]
  },
  {
   "cell_type": "code",
   "execution_count": 4,
   "id": "e010c7af",
   "metadata": {
    "execution": {
     "iopub.execute_input": "2023-12-04T15:04:19.580576Z",
     "iopub.status.busy": "2023-12-04T15:04:19.580153Z",
     "iopub.status.idle": "2023-12-04T15:04:19.587191Z",
     "shell.execute_reply": "2023-12-04T15:04:19.586378Z"
    },
    "papermill": {
     "duration": 0.030107,
     "end_time": "2023-12-04T15:04:19.588967",
     "exception": false,
     "start_time": "2023-12-04T15:04:19.558860",
     "status": "completed"
    },
    "tags": []
   },
   "outputs": [],
   "source": [
    "warnings.filterwarnings('ignore')\n",
    "tqdm.pandas()"
   ]
  },
  {
   "cell_type": "markdown",
   "id": "d78c6e04",
   "metadata": {
    "papermill": {
     "duration": 0.019407,
     "end_time": "2023-12-04T15:04:19.628234",
     "exception": false,
     "start_time": "2023-12-04T15:04:19.608827",
     "status": "completed"
    },
    "tags": []
   },
   "source": [
    "# 데이터 로딩"
   ]
  },
  {
   "cell_type": "code",
   "execution_count": 5,
   "id": "be7f6b74",
   "metadata": {
    "execution": {
     "iopub.execute_input": "2023-12-04T15:04:19.668907Z",
     "iopub.status.busy": "2023-12-04T15:04:19.668507Z",
     "iopub.status.idle": "2023-12-04T15:04:19.675189Z",
     "shell.execute_reply": "2023-12-04T15:04:19.673771Z"
    },
    "papermill": {
     "duration": 0.029523,
     "end_time": "2023-12-04T15:04:19.677248",
     "exception": false,
     "start_time": "2023-12-04T15:04:19.647725",
     "status": "completed"
    },
    "tags": []
   },
   "outputs": [],
   "source": [
    "def combine_csv_files(directory, pattern):\n",
    "\n",
    "    file_pattern = os.path.join(directory, pattern)\n",
    "    file_list = glob.glob(file_pattern)\n",
    "    dfs = [pd.read_csv(file, index_col=0) for file in file_list]\n",
    "    combined_df = pd.concat(dfs, ignore_index=True)\n",
    "\n",
    "    return combined_df"
   ]
  },
  {
   "cell_type": "code",
   "execution_count": 6,
   "id": "b59570ec",
   "metadata": {
    "execution": {
     "iopub.execute_input": "2023-12-04T15:04:19.720013Z",
     "iopub.status.busy": "2023-12-04T15:04:19.719638Z",
     "iopub.status.idle": "2023-12-04T15:04:36.215282Z",
     "shell.execute_reply": "2023-12-04T15:04:36.213447Z"
    },
    "papermill": {
     "duration": 16.521971,
     "end_time": "2023-12-04T15:04:36.218666",
     "exception": false,
     "start_time": "2023-12-04T15:04:19.696695",
     "status": "completed"
    },
    "tags": []
   },
   "outputs": [],
   "source": [
    "data_dir = os.path.join(os.getcwd(), 'RBALogin/data')\n",
    "df = combine_csv_files(data_dir, 'preprocessed_*.csv')\n",
    "df.to_csv('Final data.csv')"
   ]
  },
  {
   "cell_type": "code",
   "execution_count": 7,
   "id": "750a8def",
   "metadata": {
    "execution": {
     "iopub.execute_input": "2023-12-04T15:04:36.263041Z",
     "iopub.status.busy": "2023-12-04T15:04:36.262530Z",
     "iopub.status.idle": "2023-12-04T15:04:36.292563Z",
     "shell.execute_reply": "2023-12-04T15:04:36.291689Z"
    },
    "papermill": {
     "duration": 0.054439,
     "end_time": "2023-12-04T15:04:36.294551",
     "exception": false,
     "start_time": "2023-12-04T15:04:36.240112",
     "status": "completed"
    },
    "tags": []
   },
   "outputs": [
    {
     "data": {
      "text/html": [
       "<div>\n",
       "<style scoped>\n",
       "    .dataframe tbody tr th:only-of-type {\n",
       "        vertical-align: middle;\n",
       "    }\n",
       "\n",
       "    .dataframe tbody tr th {\n",
       "        vertical-align: top;\n",
       "    }\n",
       "\n",
       "    .dataframe thead th {\n",
       "        text-align: right;\n",
       "    }\n",
       "</style>\n",
       "<table border=\"1\" class=\"dataframe\">\n",
       "  <thead>\n",
       "    <tr style=\"text-align: right;\">\n",
       "      <th></th>\n",
       "      <th>user_id</th>\n",
       "      <th>country</th>\n",
       "      <th>country_code</th>\n",
       "      <th>region</th>\n",
       "      <th>region_risk_grade</th>\n",
       "      <th>city</th>\n",
       "      <th>city_risk_grade</th>\n",
       "      <th>name</th>\n",
       "      <th>name_risk_grade</th>\n",
       "      <th>browser_name_and_version</th>\n",
       "      <th>...</th>\n",
       "      <th>os_name_and_version</th>\n",
       "      <th>os_name</th>\n",
       "      <th>os_is_legacy</th>\n",
       "      <th>device_type</th>\n",
       "      <th>rtt</th>\n",
       "      <th>timestamp</th>\n",
       "      <th>login_success</th>\n",
       "      <th>is_attack_ip</th>\n",
       "      <th>is_takeover</th>\n",
       "      <th>label</th>\n",
       "    </tr>\n",
       "  </thead>\n",
       "  <tbody>\n",
       "    <tr>\n",
       "      <th>0</th>\n",
       "      <td>-4324475583306591935</td>\n",
       "      <td>India</td>\n",
       "      <td>IN</td>\n",
       "      <td>West Bengal</td>\n",
       "      <td>1</td>\n",
       "      <td>Kolkata</td>\n",
       "      <td>1</td>\n",
       "      <td>WISH NET PRIVATE LIMITED</td>\n",
       "      <td>1</td>\n",
       "      <td>Chrome Mobile 81.0.4044.1934</td>\n",
       "      <td>...</td>\n",
       "      <td>iOS 11.2.6</td>\n",
       "      <td>iOS</td>\n",
       "      <td>1</td>\n",
       "      <td>mobile</td>\n",
       "      <td>1058.0</td>\n",
       "      <td>2020-02-24 21:33:47.242</td>\n",
       "      <td>0</td>\n",
       "      <td>0</td>\n",
       "      <td>0</td>\n",
       "      <td>0</td>\n",
       "    </tr>\n",
       "    <tr>\n",
       "      <th>1</th>\n",
       "      <td>7242338834994584563</td>\n",
       "      <td>Iran</td>\n",
       "      <td>IR</td>\n",
       "      <td>unknown</td>\n",
       "      <td>1</td>\n",
       "      <td>unknown</td>\n",
       "      <td>1</td>\n",
       "      <td>Rayankadeh Apadana Company Ltd</td>\n",
       "      <td>1</td>\n",
       "      <td>Firefox 20.0.0.1618</td>\n",
       "      <td>...</td>\n",
       "      <td>iOS 11.2.6</td>\n",
       "      <td>iOS</td>\n",
       "      <td>1</td>\n",
       "      <td>mobile</td>\n",
       "      <td>1356.0</td>\n",
       "      <td>2020-02-24 21:34:00.569</td>\n",
       "      <td>1</td>\n",
       "      <td>0</td>\n",
       "      <td>0</td>\n",
       "      <td>0</td>\n",
       "    </tr>\n",
       "    <tr>\n",
       "      <th>2</th>\n",
       "      <td>-7081368704668964785</td>\n",
       "      <td>Iran</td>\n",
       "      <td>IR</td>\n",
       "      <td>unknown</td>\n",
       "      <td>1</td>\n",
       "      <td>unknown</td>\n",
       "      <td>1</td>\n",
       "      <td>TELUS Communications Inc.</td>\n",
       "      <td>1</td>\n",
       "      <td>Chrome Mobile 81.0.4044</td>\n",
       "      <td>...</td>\n",
       "      <td>iOS 11.2.6</td>\n",
       "      <td>iOS</td>\n",
       "      <td>1</td>\n",
       "      <td>mobile</td>\n",
       "      <td>1356.0</td>\n",
       "      <td>2020-02-24 21:34:17.167</td>\n",
       "      <td>1</td>\n",
       "      <td>0</td>\n",
       "      <td>0</td>\n",
       "      <td>0</td>\n",
       "    </tr>\n",
       "    <tr>\n",
       "      <th>3</th>\n",
       "      <td>-4324475583306591935</td>\n",
       "      <td>India</td>\n",
       "      <td>IN</td>\n",
       "      <td>Gujarat</td>\n",
       "      <td>1</td>\n",
       "      <td>Anand</td>\n",
       "      <td>1</td>\n",
       "      <td>Gujarat Telelink Pvt Ltd</td>\n",
       "      <td>1</td>\n",
       "      <td>Chrome Mobile 81.0.4044.1934</td>\n",
       "      <td>...</td>\n",
       "      <td>iOS 11.2.6</td>\n",
       "      <td>iOS</td>\n",
       "      <td>1</td>\n",
       "      <td>mobile</td>\n",
       "      <td>1058.0</td>\n",
       "      <td>2020-02-24 21:34:28.527</td>\n",
       "      <td>0</td>\n",
       "      <td>0</td>\n",
       "      <td>0</td>\n",
       "      <td>0</td>\n",
       "    </tr>\n",
       "    <tr>\n",
       "      <th>4</th>\n",
       "      <td>-4324475583306591935</td>\n",
       "      <td>Indonesia</td>\n",
       "      <td>ID</td>\n",
       "      <td>Banten</td>\n",
       "      <td>1</td>\n",
       "      <td>Karet</td>\n",
       "      <td>0</td>\n",
       "      <td>PT. Power Telecom Indonesia</td>\n",
       "      <td>1</td>\n",
       "      <td>Firefox 20.0.0.1618</td>\n",
       "      <td>...</td>\n",
       "      <td>iOS 11.2.6</td>\n",
       "      <td>iOS</td>\n",
       "      <td>1</td>\n",
       "      <td>mobile</td>\n",
       "      <td>1664.5</td>\n",
       "      <td>2020-02-24 21:34:39.357</td>\n",
       "      <td>0</td>\n",
       "      <td>0</td>\n",
       "      <td>0</td>\n",
       "      <td>0</td>\n",
       "    </tr>\n",
       "  </tbody>\n",
       "</table>\n",
       "<p>5 rows × 22 columns</p>\n",
       "</div>"
      ],
      "text/plain": [
       "               user_id    country country_code       region  \\\n",
       "0 -4324475583306591935      India           IN  West Bengal   \n",
       "1  7242338834994584563       Iran           IR      unknown   \n",
       "2 -7081368704668964785       Iran           IR      unknown   \n",
       "3 -4324475583306591935      India           IN      Gujarat   \n",
       "4 -4324475583306591935  Indonesia           ID       Banten   \n",
       "\n",
       "   region_risk_grade     city  city_risk_grade  \\\n",
       "0                  1  Kolkata                1   \n",
       "1                  1  unknown                1   \n",
       "2                  1  unknown                1   \n",
       "3                  1    Anand                1   \n",
       "4                  1    Karet                0   \n",
       "\n",
       "                             name  name_risk_grade  \\\n",
       "0        WISH NET PRIVATE LIMITED                1   \n",
       "1  Rayankadeh Apadana Company Ltd                1   \n",
       "2       TELUS Communications Inc.                1   \n",
       "3        Gujarat Telelink Pvt Ltd                1   \n",
       "4     PT. Power Telecom Indonesia                1   \n",
       "\n",
       "       browser_name_and_version  ... os_name_and_version  os_name  \\\n",
       "0  Chrome Mobile 81.0.4044.1934  ...          iOS 11.2.6      iOS   \n",
       "1           Firefox 20.0.0.1618  ...          iOS 11.2.6      iOS   \n",
       "2       Chrome Mobile 81.0.4044  ...          iOS 11.2.6      iOS   \n",
       "3  Chrome Mobile 81.0.4044.1934  ...          iOS 11.2.6      iOS   \n",
       "4           Firefox 20.0.0.1618  ...          iOS 11.2.6      iOS   \n",
       "\n",
       "  os_is_legacy device_type     rtt                timestamp  login_success  \\\n",
       "0            1      mobile  1058.0  2020-02-24 21:33:47.242              0   \n",
       "1            1      mobile  1356.0  2020-02-24 21:34:00.569              1   \n",
       "2            1      mobile  1356.0  2020-02-24 21:34:17.167              1   \n",
       "3            1      mobile  1058.0  2020-02-24 21:34:28.527              0   \n",
       "4            1      mobile  1664.5  2020-02-24 21:34:39.357              0   \n",
       "\n",
       "  is_attack_ip  is_takeover  label  \n",
       "0            0            0      0  \n",
       "1            0            0      0  \n",
       "2            0            0      0  \n",
       "3            0            0      0  \n",
       "4            0            0      0  \n",
       "\n",
       "[5 rows x 22 columns]"
      ]
     },
     "execution_count": 7,
     "metadata": {},
     "output_type": "execute_result"
    }
   ],
   "source": [
    "df.head()"
   ]
  }
 ],
 "metadata": {
  "kaggle": {
   "accelerator": "none",
   "dataSources": [],
   "dockerImageVersionId": 30587,
   "isGpuEnabled": false,
   "isInternetEnabled": true,
   "language": "python",
   "sourceType": "notebook"
  },
  "kernelspec": {
   "display_name": "Python 3",
   "language": "python",
   "name": "python3"
  },
  "language_info": {
   "codemirror_mode": {
    "name": "ipython",
    "version": 3
   },
   "file_extension": ".py",
   "mimetype": "text/x-python",
   "name": "python",
   "nbconvert_exporter": "python",
   "pygments_lexer": "ipython3",
   "version": "3.10.12"
  },
  "papermill": {
   "default_parameters": {},
   "duration": 230.414493,
   "end_time": "2023-12-04T15:04:36.937705",
   "environment_variables": {},
   "exception": null,
   "input_path": "__notebook__.ipynb",
   "output_path": "__notebook__.ipynb",
   "parameters": {},
   "start_time": "2023-12-04T15:00:46.523212",
   "version": "2.4.0"
  }
 },
 "nbformat": 4,
 "nbformat_minor": 5
}
