{
 "cells": [
  {
   "cell_type": "code",
   "execution_count": 1,
   "id": "69dc4beb",
   "metadata": {
    "_cell_guid": "b1076dfc-b9ad-4769-8c92-a6c4dae69d19",
    "_uuid": "8f2839f25d086af736a60e9eeb907d3b93b6e0e5",
    "execution": {
     "iopub.execute_input": "2023-12-06T09:37:21.854171Z",
     "iopub.status.busy": "2023-12-06T09:37:21.853522Z",
     "iopub.status.idle": "2023-12-06T09:37:22.394720Z",
     "shell.execute_reply": "2023-12-06T09:37:22.393068Z"
    },
    "papermill": {
     "duration": 0.560283,
     "end_time": "2023-12-06T09:37:22.399813",
     "exception": false,
     "start_time": "2023-12-06T09:37:21.839530",
     "status": "completed"
    },
    "tags": []
   },
   "outputs": [
    {
     "name": "stdout",
     "output_type": "stream",
     "text": [
      "/kaggle/input/preprocessed/preprocessed.csv\n"
     ]
    }
   ],
   "source": [
    "# This Python 3 environment comes with many helpful analytics libraries installed\n",
    "# It is defined by the kaggle/python Docker image: https://github.com/kaggle/docker-python\n",
    "# For example, here's several helpful packages to load\n",
    "\n",
    "import numpy as np # linear algebra\n",
    "import pandas as pd # data processing, CSV file I/O (e.g. pd.read_csv)\n",
    "\n",
    "# Input data files are available in the read-only \"../input/\" directory\n",
    "# For example, running this (by clicking run or pressing Shift+Enter) will list all files under the input directory\n",
    "\n",
    "import os\n",
    "for dirname, _, filenames in os.walk('/kaggle/input'):\n",
    "    for filename in filenames:\n",
    "        print(os.path.join(dirname, filename))\n",
    "\n",
    "# You can write up to 20GB to the current directory (/kaggle/working/) that gets preserved as output when you create a version using \"Save & Run All\" \n",
    "# You can also write temporary files to /kaggle/temp/, but they won't be saved outside of the current session"
   ]
  },
  {
   "cell_type": "markdown",
   "id": "85ea6cea",
   "metadata": {
    "papermill": {
     "duration": 0.008451,
     "end_time": "2023-12-06T09:37:22.417214",
     "exception": false,
     "start_time": "2023-12-06T09:37:22.408763",
     "status": "completed"
    },
    "tags": []
   },
   "source": [
    "# 환경설정"
   ]
  },
  {
   "cell_type": "code",
   "execution_count": 2,
   "id": "74518b6a",
   "metadata": {
    "execution": {
     "iopub.execute_input": "2023-12-06T09:37:22.436619Z",
     "iopub.status.busy": "2023-12-06T09:37:22.435942Z",
     "iopub.status.idle": "2023-12-06T09:38:59.405822Z",
     "shell.execute_reply": "2023-12-06T09:38:59.404262Z"
    },
    "papermill": {
     "duration": 96.983764,
     "end_time": "2023-12-06T09:38:59.409467",
     "exception": false,
     "start_time": "2023-12-06T09:37:22.425703",
     "status": "completed"
    },
    "tags": []
   },
   "outputs": [
    {
     "name": "stdout",
     "output_type": "stream",
     "text": [
      "Cloning into 'RBALogin'...\r\n",
      "remote: Enumerating objects: 375, done.\u001b[K\r\n",
      "remote: Counting objects: 100% (59/59), done.\u001b[K\r\n",
      "remote: Compressing objects: 100% (26/26), done.\u001b[K\r\n",
      "remote: Total 375 (delta 32), reused 59 (delta 32), pack-reused 316\u001b[K\r\n",
      "Receiving objects: 100% (375/375), 1.15 GiB | 25.33 MiB/s, done.\r\n",
      "Resolving deltas: 100% (333/333), done.\r\n",
      "Updating files: 100% (45/45), done.\r\n"
     ]
    }
   ],
   "source": [
    "!git clone 'https://github.com/brynkim/RBALogin'"
   ]
  },
  {
   "cell_type": "code",
   "execution_count": 3,
   "id": "31fff6c3",
   "metadata": {
    "execution": {
     "iopub.execute_input": "2023-12-06T09:38:59.466893Z",
     "iopub.status.busy": "2023-12-06T09:38:59.466010Z",
     "iopub.status.idle": "2023-12-06T09:38:59.483034Z",
     "shell.execute_reply": "2023-12-06T09:38:59.481661Z"
    },
    "papermill": {
     "duration": 0.050861,
     "end_time": "2023-12-06T09:38:59.486733",
     "exception": false,
     "start_time": "2023-12-06T09:38:59.435872",
     "status": "completed"
    },
    "tags": []
   },
   "outputs": [],
   "source": [
    "import pandas as pd\n",
    "import numpy as np\n",
    "import os\n",
    "import warnings\n",
    "from tqdm import tqdm, trange\n",
    "import glob"
   ]
  },
  {
   "cell_type": "code",
   "execution_count": 4,
   "id": "4b5bfdd7",
   "metadata": {
    "execution": {
     "iopub.execute_input": "2023-12-06T09:38:59.542536Z",
     "iopub.status.busy": "2023-12-06T09:38:59.542001Z",
     "iopub.status.idle": "2023-12-06T09:39:17.809356Z",
     "shell.execute_reply": "2023-12-06T09:39:17.807854Z"
    },
    "papermill": {
     "duration": 18.299678,
     "end_time": "2023-12-06T09:39:17.812668",
     "exception": false,
     "start_time": "2023-12-06T09:38:59.512990",
     "status": "completed"
    },
    "tags": []
   },
   "outputs": [
    {
     "name": "stdout",
     "output_type": "stream",
     "text": [
      "Collecting pytorch_tabnet\r\n",
      "  Obtaining dependency information for pytorch_tabnet from https://files.pythonhosted.org/packages/0f/92/ed98b89b7cf5661656daa4cc88e578f712eb5eae41b8f46a56c1ece3a895/pytorch_tabnet-4.1.0-py3-none-any.whl.metadata\r\n",
      "  Downloading pytorch_tabnet-4.1.0-py3-none-any.whl.metadata (15 kB)\r\n",
      "Requirement already satisfied: numpy>=1.17 in /opt/conda/lib/python3.10/site-packages (from pytorch_tabnet) (1.24.3)\r\n",
      "Requirement already satisfied: scikit_learn>0.21 in /opt/conda/lib/python3.10/site-packages (from pytorch_tabnet) (1.2.2)\r\n",
      "Requirement already satisfied: scipy>1.4 in /opt/conda/lib/python3.10/site-packages (from pytorch_tabnet) (1.11.3)\r\n",
      "Requirement already satisfied: torch>=1.3 in /opt/conda/lib/python3.10/site-packages (from pytorch_tabnet) (2.0.0+cpu)\r\n",
      "Requirement already satisfied: tqdm>=4.36 in /opt/conda/lib/python3.10/site-packages (from pytorch_tabnet) (4.66.1)\r\n",
      "Requirement already satisfied: joblib>=1.1.1 in /opt/conda/lib/python3.10/site-packages (from scikit_learn>0.21->pytorch_tabnet) (1.3.2)\r\n",
      "Requirement already satisfied: threadpoolctl>=2.0.0 in /opt/conda/lib/python3.10/site-packages (from scikit_learn>0.21->pytorch_tabnet) (3.2.0)\r\n",
      "Requirement already satisfied: filelock in /opt/conda/lib/python3.10/site-packages (from torch>=1.3->pytorch_tabnet) (3.12.2)\r\n",
      "Requirement already satisfied: typing-extensions in /opt/conda/lib/python3.10/site-packages (from torch>=1.3->pytorch_tabnet) (4.5.0)\r\n",
      "Requirement already satisfied: sympy in /opt/conda/lib/python3.10/site-packages (from torch>=1.3->pytorch_tabnet) (1.12)\r\n",
      "Requirement already satisfied: networkx in /opt/conda/lib/python3.10/site-packages (from torch>=1.3->pytorch_tabnet) (3.1)\r\n",
      "Requirement already satisfied: jinja2 in /opt/conda/lib/python3.10/site-packages (from torch>=1.3->pytorch_tabnet) (3.1.2)\r\n",
      "Requirement already satisfied: MarkupSafe>=2.0 in /opt/conda/lib/python3.10/site-packages (from jinja2->torch>=1.3->pytorch_tabnet) (2.1.3)\r\n",
      "Requirement already satisfied: mpmath>=0.19 in /opt/conda/lib/python3.10/site-packages (from sympy->torch>=1.3->pytorch_tabnet) (1.3.0)\r\n",
      "Downloading pytorch_tabnet-4.1.0-py3-none-any.whl (44 kB)\r\n",
      "\u001b[2K   \u001b[90m━━━━━━━━━━━━━━━━━━━━━━━━━━━━━━━━━━━━━━━━\u001b[0m \u001b[32m44.5/44.5 kB\u001b[0m \u001b[31m1.8 MB/s\u001b[0m eta \u001b[36m0:00:00\u001b[0m\r\n",
      "\u001b[?25hInstalling collected packages: pytorch_tabnet\r\n",
      "Successfully installed pytorch_tabnet-4.1.0\r\n"
     ]
    }
   ],
   "source": [
    "!pip install pytorch_tabnet"
   ]
  },
  {
   "cell_type": "code",
   "execution_count": 5,
   "id": "ba661f03",
   "metadata": {
    "execution": {
     "iopub.execute_input": "2023-12-06T09:39:17.873487Z",
     "iopub.status.busy": "2023-12-06T09:39:17.872934Z",
     "iopub.status.idle": "2023-12-06T09:39:24.156644Z",
     "shell.execute_reply": "2023-12-06T09:39:24.155349Z"
    },
    "papermill": {
     "duration": 6.316869,
     "end_time": "2023-12-06T09:39:24.159854",
     "exception": false,
     "start_time": "2023-12-06T09:39:17.842985",
     "status": "completed"
    },
    "tags": []
   },
   "outputs": [],
   "source": [
    "from pytorch_tabnet.tab_model import TabNetClassifier\n",
    "from pytorch_tabnet.pretraining import TabNetPretrainer\n",
    "import matplotlib.pyplot as plt\n",
    "from sklearn.metrics import confusion_matrix, accuracy_score, f1_score\n",
    "from sklearn.metrics import precision_recall_curve, auc\n",
    "from sklearn.preprocessing import LabelEncoder\n",
    "from sklearn.model_selection import train_test_split\n",
    "import torch\n",
    "import pytorch_tabnet"
   ]
  },
  {
   "cell_type": "code",
   "execution_count": 6,
   "id": "7af5bb71",
   "metadata": {
    "execution": {
     "iopub.execute_input": "2023-12-06T09:39:24.220139Z",
     "iopub.status.busy": "2023-12-06T09:39:24.219300Z",
     "iopub.status.idle": "2023-12-06T09:39:27.930177Z",
     "shell.execute_reply": "2023-12-06T09:39:27.928339Z"
    },
    "papermill": {
     "duration": 3.744748,
     "end_time": "2023-12-06T09:39:27.933662",
     "exception": false,
     "start_time": "2023-12-06T09:39:24.188914",
     "status": "completed"
    },
    "tags": []
   },
   "outputs": [
    {
     "name": "stdout",
     "output_type": "stream",
     "text": [
      "pytorch-tabnet                           4.1.0\r\n",
      "Note: you may need to restart the kernel to use updated packages.\n"
     ]
    }
   ],
   "source": [
    "pip list | grep pytorch-tabnet"
   ]
  },
  {
   "cell_type": "code",
   "execution_count": 7,
   "id": "eafa81dc",
   "metadata": {
    "execution": {
     "iopub.execute_input": "2023-12-06T09:39:27.992433Z",
     "iopub.status.busy": "2023-12-06T09:39:27.991883Z",
     "iopub.status.idle": "2023-12-06T09:39:28.001703Z",
     "shell.execute_reply": "2023-12-06T09:39:28.000002Z"
    },
    "papermill": {
     "duration": 0.042916,
     "end_time": "2023-12-06T09:39:28.004608",
     "exception": false,
     "start_time": "2023-12-06T09:39:27.961692",
     "status": "completed"
    },
    "tags": []
   },
   "outputs": [],
   "source": [
    "warnings.filterwarnings('ignore')\n",
    "tqdm.pandas()"
   ]
  },
  {
   "cell_type": "code",
   "execution_count": 8,
   "id": "8b4829c0",
   "metadata": {
    "execution": {
     "iopub.execute_input": "2023-12-06T09:39:28.063402Z",
     "iopub.status.busy": "2023-12-06T09:39:28.062853Z",
     "iopub.status.idle": "2023-12-06T09:39:28.069130Z",
     "shell.execute_reply": "2023-12-06T09:39:28.067538Z"
    },
    "papermill": {
     "duration": 0.040328,
     "end_time": "2023-12-06T09:39:28.072131",
     "exception": false,
     "start_time": "2023-12-06T09:39:28.031803",
     "status": "completed"
    },
    "tags": []
   },
   "outputs": [],
   "source": [
    "pd.set_option('display.max_columns', None)"
   ]
  },
  {
   "cell_type": "markdown",
   "id": "e049ec9b",
   "metadata": {
    "papermill": {
     "duration": 0.026686,
     "end_time": "2023-12-06T09:39:28.125017",
     "exception": false,
     "start_time": "2023-12-06T09:39:28.098331",
     "status": "completed"
    },
    "tags": []
   },
   "source": [
    "# 데이터 로딩"
   ]
  },
  {
   "cell_type": "code",
   "execution_count": 9,
   "id": "31646704",
   "metadata": {
    "execution": {
     "iopub.execute_input": "2023-12-06T09:39:28.181948Z",
     "iopub.status.busy": "2023-12-06T09:39:28.181437Z",
     "iopub.status.idle": "2023-12-06T09:39:28.190475Z",
     "shell.execute_reply": "2023-12-06T09:39:28.188530Z"
    },
    "papermill": {
     "duration": 0.04173,
     "end_time": "2023-12-06T09:39:28.193667",
     "exception": false,
     "start_time": "2023-12-06T09:39:28.151937",
     "status": "completed"
    },
    "tags": []
   },
   "outputs": [],
   "source": [
    "def combine_csv_files(directory, pattern):\n",
    "\n",
    "    file_pattern = os.path.join(directory, pattern)\n",
    "    file_list = glob.glob(file_pattern)\n",
    "    dfs = [pd.read_csv(file, index_col=0) for file in file_list]\n",
    "    combined_df = pd.concat(dfs, ignore_index=True)\n",
    "\n",
    "    return combined_df"
   ]
  },
  {
   "cell_type": "code",
   "execution_count": 10,
   "id": "194aa5bd",
   "metadata": {
    "execution": {
     "iopub.execute_input": "2023-12-06T09:39:28.258165Z",
     "iopub.status.busy": "2023-12-06T09:39:28.257425Z",
     "iopub.status.idle": "2023-12-06T09:39:28.263755Z",
     "shell.execute_reply": "2023-12-06T09:39:28.262187Z"
    },
    "papermill": {
     "duration": 0.046363,
     "end_time": "2023-12-06T09:39:28.267041",
     "exception": false,
     "start_time": "2023-12-06T09:39:28.220678",
     "status": "completed"
    },
    "tags": []
   },
   "outputs": [],
   "source": [
    "# data_dir = os.path.join(os.getcwd(), 'RBALogin/data')\n",
    "# df = combine_csv_files(data_dir, 'preprocessed_*.csv')\n",
    "# df.to_csv('Final data.csv')"
   ]
  },
  {
   "cell_type": "code",
   "execution_count": 11,
   "id": "05306b58",
   "metadata": {
    "execution": {
     "iopub.execute_input": "2023-12-06T09:39:28.428051Z",
     "iopub.status.busy": "2023-12-06T09:39:28.427522Z",
     "iopub.status.idle": "2023-12-06T09:39:41.786714Z",
     "shell.execute_reply": "2023-12-06T09:39:41.785367Z"
    },
    "papermill": {
     "duration": 13.49231,
     "end_time": "2023-12-06T09:39:41.790108",
     "exception": false,
     "start_time": "2023-12-06T09:39:28.297798",
     "status": "completed"
    },
    "tags": []
   },
   "outputs": [],
   "source": [
    "raw = pd.read_csv('/kaggle/input/preprocessed/preprocessed.csv')"
   ]
  },
  {
   "cell_type": "code",
   "execution_count": 12,
   "id": "ef445589",
   "metadata": {
    "execution": {
     "iopub.execute_input": "2023-12-06T09:39:41.846584Z",
     "iopub.status.busy": "2023-12-06T09:39:41.846053Z",
     "iopub.status.idle": "2023-12-06T09:39:41.852388Z",
     "shell.execute_reply": "2023-12-06T09:39:41.850916Z"
    },
    "papermill": {
     "duration": 0.038815,
     "end_time": "2023-12-06T09:39:41.855440",
     "exception": false,
     "start_time": "2023-12-06T09:39:41.816625",
     "status": "completed"
    },
    "tags": []
   },
   "outputs": [],
   "source": [
    "df = raw"
   ]
  },
  {
   "cell_type": "code",
   "execution_count": 13,
   "id": "60a44ae6",
   "metadata": {
    "execution": {
     "iopub.execute_input": "2023-12-06T09:39:41.911732Z",
     "iopub.status.busy": "2023-12-06T09:39:41.910326Z",
     "iopub.status.idle": "2023-12-06T09:39:41.953992Z",
     "shell.execute_reply": "2023-12-06T09:39:41.952499Z"
    },
    "papermill": {
     "duration": 0.075275,
     "end_time": "2023-12-06T09:39:41.957555",
     "exception": false,
     "start_time": "2023-12-06T09:39:41.882280",
     "status": "completed"
    },
    "tags": []
   },
   "outputs": [
    {
     "data": {
      "text/html": [
       "<div>\n",
       "<style scoped>\n",
       "    .dataframe tbody tr th:only-of-type {\n",
       "        vertical-align: middle;\n",
       "    }\n",
       "\n",
       "    .dataframe tbody tr th {\n",
       "        vertical-align: top;\n",
       "    }\n",
       "\n",
       "    .dataframe thead th {\n",
       "        text-align: right;\n",
       "    }\n",
       "</style>\n",
       "<table border=\"1\" class=\"dataframe\">\n",
       "  <thead>\n",
       "    <tr style=\"text-align: right;\">\n",
       "      <th></th>\n",
       "      <th>user_id</th>\n",
       "      <th>country</th>\n",
       "      <th>country_code</th>\n",
       "      <th>region</th>\n",
       "      <th>region_risk_grade</th>\n",
       "      <th>city</th>\n",
       "      <th>city_risk_grade</th>\n",
       "      <th>name</th>\n",
       "      <th>name_risk_grade</th>\n",
       "      <th>browser_name_and_version</th>\n",
       "      <th>browser_name</th>\n",
       "      <th>browser_is_legacy</th>\n",
       "      <th>os_name_and_version</th>\n",
       "      <th>os_name</th>\n",
       "      <th>os_is_legacy</th>\n",
       "      <th>device_type</th>\n",
       "      <th>rtt</th>\n",
       "      <th>timestamp</th>\n",
       "      <th>login_success</th>\n",
       "      <th>is_attack_ip</th>\n",
       "      <th>is_takeover</th>\n",
       "      <th>label</th>\n",
       "    </tr>\n",
       "  </thead>\n",
       "  <tbody>\n",
       "    <tr>\n",
       "      <th>0</th>\n",
       "      <td>-4324475583306591935</td>\n",
       "      <td>Indonesia</td>\n",
       "      <td>ID</td>\n",
       "      <td>East Java</td>\n",
       "      <td>1</td>\n",
       "      <td>Surabaya</td>\n",
       "      <td>1</td>\n",
       "      <td>PT. Dutakom Wibawa Putra</td>\n",
       "      <td>1</td>\n",
       "      <td>Chrome Mobile WebView 85.0.4183</td>\n",
       "      <td>Chrome Mobile WebView</td>\n",
       "      <td>1</td>\n",
       "      <td>iOS 13.4</td>\n",
       "      <td>iOS</td>\n",
       "      <td>1</td>\n",
       "      <td>mobile</td>\n",
       "      <td>1664.5</td>\n",
       "      <td>2020-02-03 12:44:33.042</td>\n",
       "      <td>0</td>\n",
       "      <td>0</td>\n",
       "      <td>0</td>\n",
       "      <td>0</td>\n",
       "    </tr>\n",
       "    <tr>\n",
       "      <th>1</th>\n",
       "      <td>-5377627992963732557</td>\n",
       "      <td>Indonesia</td>\n",
       "      <td>ID</td>\n",
       "      <td>East Java</td>\n",
       "      <td>1</td>\n",
       "      <td>Surabaya</td>\n",
       "      <td>1</td>\n",
       "      <td>PT. Dutakom Wibawa Putra</td>\n",
       "      <td>1</td>\n",
       "      <td>Chrome Mobile WebView 85.0.4183</td>\n",
       "      <td>Chrome Mobile WebView</td>\n",
       "      <td>1</td>\n",
       "      <td>iOS 13.4</td>\n",
       "      <td>iOS</td>\n",
       "      <td>1</td>\n",
       "      <td>mobile</td>\n",
       "      <td>1664.5</td>\n",
       "      <td>2020-02-03 12:44:50.690</td>\n",
       "      <td>1</td>\n",
       "      <td>0</td>\n",
       "      <td>0</td>\n",
       "      <td>0</td>\n",
       "    </tr>\n",
       "    <tr>\n",
       "      <th>2</th>\n",
       "      <td>-4324475583306591935</td>\n",
       "      <td>India</td>\n",
       "      <td>IN</td>\n",
       "      <td>unknown</td>\n",
       "      <td>1</td>\n",
       "      <td>unknown</td>\n",
       "      <td>1</td>\n",
       "      <td>Gujarat Telelink Pvt Ltd</td>\n",
       "      <td>1</td>\n",
       "      <td>Firefox 20.0.0.1618</td>\n",
       "      <td>Firefox</td>\n",
       "      <td>1</td>\n",
       "      <td>iOS 11.2.6</td>\n",
       "      <td>iOS</td>\n",
       "      <td>1</td>\n",
       "      <td>mobile</td>\n",
       "      <td>1058.0</td>\n",
       "      <td>2020-02-03 12:45:05.332</td>\n",
       "      <td>0</td>\n",
       "      <td>0</td>\n",
       "      <td>0</td>\n",
       "      <td>0</td>\n",
       "    </tr>\n",
       "    <tr>\n",
       "      <th>3</th>\n",
       "      <td>-4324475583306591935</td>\n",
       "      <td>India</td>\n",
       "      <td>IN</td>\n",
       "      <td>West Bengal</td>\n",
       "      <td>1</td>\n",
       "      <td>Kolkata</td>\n",
       "      <td>1</td>\n",
       "      <td>WISH NET PRIVATE LIMITED</td>\n",
       "      <td>1</td>\n",
       "      <td>Chrome Mobile WebView 80.0.3987</td>\n",
       "      <td>Chrome Mobile WebView</td>\n",
       "      <td>1</td>\n",
       "      <td>iOS 13.4</td>\n",
       "      <td>iOS</td>\n",
       "      <td>1</td>\n",
       "      <td>mobile</td>\n",
       "      <td>1058.0</td>\n",
       "      <td>2020-02-03 12:45:24.970</td>\n",
       "      <td>0</td>\n",
       "      <td>0</td>\n",
       "      <td>0</td>\n",
       "      <td>0</td>\n",
       "    </tr>\n",
       "    <tr>\n",
       "      <th>4</th>\n",
       "      <td>-4324475583306591935</td>\n",
       "      <td>Indonesia</td>\n",
       "      <td>ID</td>\n",
       "      <td>East Java</td>\n",
       "      <td>1</td>\n",
       "      <td>Surabaya</td>\n",
       "      <td>1</td>\n",
       "      <td>Wow Internet Indonesia</td>\n",
       "      <td>0</td>\n",
       "      <td>Opera Mini 19.0.2254</td>\n",
       "      <td>Opera Mini</td>\n",
       "      <td>1</td>\n",
       "      <td>iOS 10.0.1</td>\n",
       "      <td>iOS</td>\n",
       "      <td>1</td>\n",
       "      <td>mobile</td>\n",
       "      <td>1664.5</td>\n",
       "      <td>2020-02-03 12:45:30.262</td>\n",
       "      <td>0</td>\n",
       "      <td>0</td>\n",
       "      <td>0</td>\n",
       "      <td>0</td>\n",
       "    </tr>\n",
       "  </tbody>\n",
       "</table>\n",
       "</div>"
      ],
      "text/plain": [
       "               user_id    country country_code       region  \\\n",
       "0 -4324475583306591935  Indonesia           ID    East Java   \n",
       "1 -5377627992963732557  Indonesia           ID    East Java   \n",
       "2 -4324475583306591935      India           IN      unknown   \n",
       "3 -4324475583306591935      India           IN  West Bengal   \n",
       "4 -4324475583306591935  Indonesia           ID    East Java   \n",
       "\n",
       "   region_risk_grade      city  city_risk_grade                      name  \\\n",
       "0                  1  Surabaya                1  PT. Dutakom Wibawa Putra   \n",
       "1                  1  Surabaya                1  PT. Dutakom Wibawa Putra   \n",
       "2                  1   unknown                1  Gujarat Telelink Pvt Ltd   \n",
       "3                  1   Kolkata                1  WISH NET PRIVATE LIMITED   \n",
       "4                  1  Surabaya                1    Wow Internet Indonesia   \n",
       "\n",
       "   name_risk_grade         browser_name_and_version           browser_name  \\\n",
       "0                1  Chrome Mobile WebView 85.0.4183  Chrome Mobile WebView   \n",
       "1                1  Chrome Mobile WebView 85.0.4183  Chrome Mobile WebView   \n",
       "2                1              Firefox 20.0.0.1618                Firefox   \n",
       "3                1  Chrome Mobile WebView 80.0.3987  Chrome Mobile WebView   \n",
       "4                0             Opera Mini 19.0.2254             Opera Mini   \n",
       "\n",
       "   browser_is_legacy os_name_and_version os_name  os_is_legacy device_type  \\\n",
       "0                  1            iOS 13.4     iOS             1      mobile   \n",
       "1                  1            iOS 13.4     iOS             1      mobile   \n",
       "2                  1          iOS 11.2.6     iOS             1      mobile   \n",
       "3                  1            iOS 13.4     iOS             1      mobile   \n",
       "4                  1          iOS 10.0.1     iOS             1      mobile   \n",
       "\n",
       "      rtt                timestamp  login_success  is_attack_ip  is_takeover  \\\n",
       "0  1664.5  2020-02-03 12:44:33.042              0             0            0   \n",
       "1  1664.5  2020-02-03 12:44:50.690              1             0            0   \n",
       "2  1058.0  2020-02-03 12:45:05.332              0             0            0   \n",
       "3  1058.0  2020-02-03 12:45:24.970              0             0            0   \n",
       "4  1664.5  2020-02-03 12:45:30.262              0             0            0   \n",
       "\n",
       "   label  \n",
       "0      0  \n",
       "1      0  \n",
       "2      0  \n",
       "3      0  \n",
       "4      0  "
      ]
     },
     "execution_count": 13,
     "metadata": {},
     "output_type": "execute_result"
    }
   ],
   "source": [
    "df.head()"
   ]
  },
  {
   "cell_type": "code",
   "execution_count": 14,
   "id": "7997a3a0",
   "metadata": {
    "execution": {
     "iopub.execute_input": "2023-12-06T09:39:42.018636Z",
     "iopub.status.busy": "2023-12-06T09:39:42.018127Z",
     "iopub.status.idle": "2023-12-06T09:39:42.025372Z",
     "shell.execute_reply": "2023-12-06T09:39:42.023485Z"
    },
    "papermill": {
     "duration": 0.041725,
     "end_time": "2023-12-06T09:39:42.028481",
     "exception": false,
     "start_time": "2023-12-06T09:39:41.986756",
     "status": "completed"
    },
    "tags": []
   },
   "outputs": [],
   "source": [
    "# feature'country_code', 'region_risk_grade','city_risk_grade','name_risk_grade','browser_is_legacy','os_is_legacy', 'rtt' ,'device_type'\n",
    "# device_type -> 라벨인코딩 필요"
   ]
  },
  {
   "cell_type": "code",
   "execution_count": 15,
   "id": "1e0db01d",
   "metadata": {
    "execution": {
     "iopub.execute_input": "2023-12-06T09:39:42.087134Z",
     "iopub.status.busy": "2023-12-06T09:39:42.086622Z",
     "iopub.status.idle": "2023-12-06T09:39:43.803615Z",
     "shell.execute_reply": "2023-12-06T09:39:43.802247Z"
    },
    "papermill": {
     "duration": 1.749845,
     "end_time": "2023-12-06T09:39:43.807265",
     "exception": false,
     "start_time": "2023-12-06T09:39:42.057420",
     "status": "completed"
    },
    "tags": []
   },
   "outputs": [],
   "source": [
    "# Feature 선택\n",
    "selected_columns = ['country_code', 'region_risk_grade','city_risk_grade',\n",
    "                    'name_risk_grade','browser_is_legacy','os_is_legacy', 'rtt' ,'device_type','label']\n",
    "df = df[selected_columns]\n",
    "\n",
    "# 범주형 변수를 숫자로 인코딩\n",
    "label_encoders = {}\n",
    "categorical_columns = ['country_code', 'device_type']\n",
    "for col in categorical_columns:\n",
    "    le = LabelEncoder()\n",
    "    df[col] = le.fit_transform(df[col])\n",
    "    label_encoders[col] = le\n",
    "\n",
    "# 타겟 변수 설정\n",
    "target = 'label'\n",
    "\n",
    "# 특성과 타겟 분리\n",
    "X = df.drop(target, axis=1)\n",
    "y = df[target]\n",
    "\n",
    "# 데이터를 훈련 세트와 테스트 세트로 분리\n",
    "X_train, X_test, y_train, y_test = train_test_split(X, y, test_size=0.2, random_state=42)\n",
    "\n",
    "# 범주형 컬럼의 인덱스\n",
    "cat_idxs = [i for i, col in enumerate(X_train.columns) if col in categorical_columns]"
   ]
  },
  {
   "cell_type": "code",
   "execution_count": 16,
   "id": "456e5397",
   "metadata": {
    "execution": {
     "iopub.execute_input": "2023-12-06T09:39:43.864994Z",
     "iopub.status.busy": "2023-12-06T09:39:43.864201Z",
     "iopub.status.idle": "2023-12-06T10:33:53.281486Z",
     "shell.execute_reply": "2023-12-06T10:33:53.271358Z"
    },
    "papermill": {
     "duration": 3249.510301,
     "end_time": "2023-12-06T10:33:53.345341",
     "exception": false,
     "start_time": "2023-12-06T09:39:43.835040",
     "status": "completed"
    },
    "tags": []
   },
   "outputs": [
    {
     "name": "stdout",
     "output_type": "stream",
     "text": [
      "epoch 0  | loss: 1.18561 | val_0_unsup_loss_numpy: 1.3740899562835693|  0:01:39s\n",
      "epoch 1  | loss: 0.67208 | val_0_unsup_loss_numpy: 1.2715500593185425|  0:03:19s\n",
      "epoch 2  | loss: 0.6419  | val_0_unsup_loss_numpy: 1.060629963874817|  0:04:58s\n",
      "epoch 3  | loss: 0.6137  | val_0_unsup_loss_numpy: 1.0070600509643555|  0:06:35s\n",
      "epoch 4  | loss: 0.58236 | val_0_unsup_loss_numpy: 0.9595999717712402|  0:08:15s\n",
      "epoch 5  | loss: 0.56755 | val_0_unsup_loss_numpy: 0.9944900274276733|  0:09:53s\n",
      "epoch 6  | loss: 0.54828 | val_0_unsup_loss_numpy: 0.9482300281524658|  0:11:31s\n",
      "epoch 7  | loss: 0.54155 | val_0_unsup_loss_numpy: 0.9263200163841248|  0:13:12s\n",
      "epoch 8  | loss: 0.53841 | val_0_unsup_loss_numpy: 0.8967300057411194|  0:14:51s\n",
      "epoch 9  | loss: 0.53424 | val_0_unsup_loss_numpy: 0.8776699900627136|  0:16:31s\n",
      "epoch 10 | loss: 0.52803 | val_0_unsup_loss_numpy: 0.8929700255393982|  0:18:10s\n",
      "epoch 11 | loss: 0.52404 | val_0_unsup_loss_numpy: 0.8693100214004517|  0:19:49s\n",
      "epoch 12 | loss: 0.52225 | val_0_unsup_loss_numpy: 0.8378999829292297|  0:21:28s\n",
      "epoch 13 | loss: 0.51957 | val_0_unsup_loss_numpy: 0.8954200148582458|  0:23:06s\n",
      "epoch 14 | loss: 0.51955 | val_0_unsup_loss_numpy: 0.850350022315979|  0:24:43s\n",
      "epoch 15 | loss: 0.5177  | val_0_unsup_loss_numpy: 0.837369978427887|  0:26:19s\n",
      "epoch 16 | loss: 0.51661 | val_0_unsup_loss_numpy: 0.8581299781799316|  0:27:59s\n",
      "epoch 17 | loss: 0.51282 | val_0_unsup_loss_numpy: 0.9055899977684021|  0:29:38s\n",
      "epoch 18 | loss: 0.51417 | val_0_unsup_loss_numpy: 0.8363999724388123|  0:31:15s\n",
      "epoch 19 | loss: 0.51017 | val_0_unsup_loss_numpy: 0.8412600159645081|  0:32:54s\n",
      "epoch 20 | loss: 0.50627 | val_0_unsup_loss_numpy: 0.8851699829101562|  0:34:34s\n",
      "epoch 21 | loss: 0.50797 | val_0_unsup_loss_numpy: 0.8144999742507935|  0:36:14s\n",
      "epoch 22 | loss: 0.50865 | val_0_unsup_loss_numpy: 0.7898200154304504|  0:37:53s\n",
      "epoch 23 | loss: 0.51164 | val_0_unsup_loss_numpy: 0.7689899802207947|  0:39:33s\n",
      "epoch 24 | loss: 0.50911 | val_0_unsup_loss_numpy: 0.7488300204277039|  0:41:11s\n",
      "epoch 25 | loss: 0.50896 | val_0_unsup_loss_numpy: 0.746940016746521|  0:42:49s\n",
      "epoch 26 | loss: 0.50904 | val_0_unsup_loss_numpy: 0.736329972743988|  0:44:27s\n",
      "epoch 27 | loss: 0.50652 | val_0_unsup_loss_numpy: 0.6734399795532227|  0:46:05s\n",
      "epoch 28 | loss: 0.50656 | val_0_unsup_loss_numpy: 0.7454500198364258|  0:47:42s\n",
      "epoch 29 | loss: 0.50576 | val_0_unsup_loss_numpy: 0.7125999927520752|  0:49:18s\n",
      "epoch 30 | loss: 0.50433 | val_0_unsup_loss_numpy: 0.847350001335144|  0:50:55s\n",
      "epoch 31 | loss: 0.50398 | val_0_unsup_loss_numpy: 0.7608000040054321|  0:52:32s\n",
      "epoch 32 | loss: 0.50615 | val_0_unsup_loss_numpy: 0.6885600090026855|  0:54:09s\n",
      "\n",
      "Early stopping occurred at epoch 32 with best_epoch = 27 and best_val_0_unsup_loss_numpy = 0.6734399795532227\n"
     ]
    }
   ],
   "source": [
    "# TabNet 프리트레이너 초기화 및 프리트레이닝\n",
    "pretrainer = TabNetPretrainer(optimizer_fn=torch.optim.Adam,\n",
    "                              optimizer_params=dict(lr=2e-2),\n",
    "                              mask_type='entmax') # 'sparsemax'\n",
    "\n",
    "pretrainer.fit(\n",
    "    X_train=X_train.values,\n",
    "    eval_set=[X_test.values],\n",
    "    max_epochs=50, # 프리트레이닝 에포크\n",
    "    patience=5,\n",
    "    batch_size=1024, \n",
    "    virtual_batch_size=128\n",
    ")"
   ]
  },
  {
   "cell_type": "code",
   "execution_count": 17,
   "id": "db449da7",
   "metadata": {
    "execution": {
     "iopub.execute_input": "2023-12-06T10:33:53.410528Z",
     "iopub.status.busy": "2023-12-06T10:33:53.409993Z",
     "iopub.status.idle": "2023-12-06T11:12:43.460858Z",
     "shell.execute_reply": "2023-12-06T11:12:43.459208Z"
    },
    "papermill": {
     "duration": 2330.087258,
     "end_time": "2023-12-06T11:12:43.464657",
     "exception": false,
     "start_time": "2023-12-06T10:33:53.377399",
     "status": "completed"
    },
    "tags": []
   },
   "outputs": [
    {
     "name": "stdout",
     "output_type": "stream",
     "text": [
      "epoch 0  | loss: 0.17298 | test_auc: 0.92922 |  0:01:22s\n",
      "epoch 1  | loss: 0.15756 | test_auc: 0.92912 |  0:02:46s\n",
      "epoch 2  | loss: 0.15536 | test_auc: 0.93207 |  0:04:09s\n",
      "epoch 3  | loss: 0.15563 | test_auc: 0.93275 |  0:05:33s\n",
      "epoch 4  | loss: 0.15389 | test_auc: 0.93258 |  0:06:57s\n",
      "epoch 5  | loss: 0.15333 | test_auc: 0.93222 |  0:08:19s\n",
      "epoch 6  | loss: 0.15338 | test_auc: 0.9334  |  0:09:41s\n",
      "epoch 7  | loss: 0.15206 | test_auc: 0.93367 |  0:11:05s\n",
      "epoch 8  | loss: 0.15167 | test_auc: 0.93453 |  0:12:28s\n",
      "epoch 9  | loss: 0.15163 | test_auc: 0.93309 |  0:13:50s\n",
      "epoch 10 | loss: 0.15154 | test_auc: 0.93464 |  0:15:07s\n",
      "epoch 11 | loss: 0.15124 | test_auc: 0.9329  |  0:16:24s\n",
      "epoch 12 | loss: 0.15058 | test_auc: 0.93504 |  0:17:47s\n",
      "epoch 13 | loss: 0.15161 | test_auc: 0.93302 |  0:19:11s\n",
      "epoch 14 | loss: 0.15115 | test_auc: 0.93407 |  0:20:34s\n",
      "epoch 15 | loss: 0.15029 | test_auc: 0.93447 |  0:21:58s\n",
      "epoch 16 | loss: 0.15072 | test_auc: 0.93519 |  0:23:23s\n",
      "epoch 17 | loss: 0.15024 | test_auc: 0.93248 |  0:24:48s\n",
      "epoch 18 | loss: 0.15071 | test_auc: 0.93345 |  0:26:11s\n",
      "epoch 19 | loss: 0.1503  | test_auc: 0.93378 |  0:27:34s\n",
      "epoch 20 | loss: 0.15006 | test_auc: 0.93469 |  0:28:58s\n",
      "epoch 21 | loss: 0.15192 | test_auc: 0.93391 |  0:30:22s\n",
      "epoch 22 | loss: 0.1509  | test_auc: 0.93262 |  0:31:45s\n",
      "epoch 23 | loss: 0.15044 | test_auc: 0.93354 |  0:33:10s\n",
      "epoch 24 | loss: 0.14996 | test_auc: 0.9336  |  0:34:34s\n",
      "epoch 25 | loss: 0.15046 | test_auc: 0.93477 |  0:35:57s\n",
      "epoch 26 | loss: 0.15041 | test_auc: 0.93394 |  0:37:22s\n",
      "\n",
      "Early stopping occurred at epoch 26 with best_epoch = 16 and best_test_auc = 0.93519\n"
     ]
    }
   ],
   "source": [
    "# TabNet 분류기 초기화 및 모델 훈련\n",
    "clf = TabNetClassifier(optimizer_fn=torch.optim.Adam,\n",
    "                       optimizer_params=dict(lr=2e-2),\n",
    "                       scheduler_params={\"step_size\":50, \"gamma\":0.9},\n",
    "                       scheduler_fn=torch.optim.lr_scheduler.StepLR,\n",
    "                       mask_type='entmax') # 'sparsemax') # 프리트레이닝된 네트워크 사용\n",
    "\n",
    "clf.fit(\n",
    "    X_train.values, y_train.values,\n",
    "    eval_set=[(X_test.values, y_test.values)],\n",
    "    eval_name=['test'],\n",
    "    eval_metric=['auc'],\n",
    "    max_epochs=100,\n",
    "    patience=10,\n",
    "    batch_size=1024, \n",
    "    virtual_batch_size=128,\n",
    "    num_workers=0,\n",
    "    drop_last=False,\n",
    "    from_unsupervised=pretrainer\n",
    ")\n"
   ]
  },
  {
   "cell_type": "code",
   "execution_count": 18,
   "id": "8676f572",
   "metadata": {
    "execution": {
     "iopub.execute_input": "2023-12-06T11:12:43.651329Z",
     "iopub.status.busy": "2023-12-06T11:12:43.650764Z",
     "iopub.status.idle": "2023-12-06T11:12:52.828494Z",
     "shell.execute_reply": "2023-12-06T11:12:52.826932Z"
    },
    "papermill": {
     "duration": 9.216518,
     "end_time": "2023-12-06T11:12:52.831681",
     "exception": false,
     "start_time": "2023-12-06T11:12:43.615163",
     "status": "completed"
    },
    "tags": []
   },
   "outputs": [],
   "source": [
    "# 테스트 데이터에 대한 예측\n",
    "preds = clf.predict(X_test.values)"
   ]
  },
  {
   "cell_type": "code",
   "execution_count": 19,
   "id": "aa2e1a73",
   "metadata": {
    "execution": {
     "iopub.execute_input": "2023-12-06T11:12:52.902295Z",
     "iopub.status.busy": "2023-12-06T11:12:52.901728Z",
     "iopub.status.idle": "2023-12-06T11:12:53.460966Z",
     "shell.execute_reply": "2023-12-06T11:12:53.459819Z"
    },
    "papermill": {
     "duration": 0.599484,
     "end_time": "2023-12-06T11:12:53.464082",
     "exception": false,
     "start_time": "2023-12-06T11:12:52.864598",
     "status": "completed"
    },
    "tags": []
   },
   "outputs": [
    {
     "data": {
      "image/png": "[encoded data removed]",
      "text/plain": [
       "<Figure size 800x800 with 1 Axes>"
      ]
     },
     "metadata": {},
     "output_type": "display_data"
    }
   ],
   "source": [
    "# Confusion Matrix 생성\n",
    "conf_matrix = confusion_matrix(y_test, preds)\n",
    "\n",
    "# Confusion Matrix 시각화\n",
    "fig, ax = plt.subplots(figsize=(8, 8))\n",
    "ax.matshow(conf_matrix, cmap=plt.cm.Blues, alpha=0.3)\n",
    "for i in range(conf_matrix.shape[0]):\n",
    "    for j in range(conf_matrix.shape[1]):\n",
    "        ax.text(x=j, y=i, s=conf_matrix[i, j], va='center', ha='center')\n",
    "\n",
    "plt.xlabel('Predicted labels')\n",
    "plt.ylabel('True labels')\n",
    "plt.title('Confusion Matrix')\n",
    "plt.show()"
   ]
  },
  {
   "cell_type": "code",
   "execution_count": 20,
   "id": "b9cc0620",
   "metadata": {
    "execution": {
     "iopub.execute_input": "2023-12-06T11:12:53.535477Z",
     "iopub.status.busy": "2023-12-06T11:12:53.534934Z",
     "iopub.status.idle": "2023-12-06T11:12:53.693021Z",
     "shell.execute_reply": "2023-12-06T11:12:53.691583Z"
    },
    "papermill": {
     "duration": 0.198176,
     "end_time": "2023-12-06T11:12:53.696246",
     "exception": false,
     "start_time": "2023-12-06T11:12:53.498070",
     "status": "completed"
    },
    "tags": []
   },
   "outputs": [
    {
     "name": "stdout",
     "output_type": "stream",
     "text": [
      "Accuracy: 0.9445336591036718\n",
      "F1 Score: 0.5878678444195011\n"
     ]
    }
   ],
   "source": [
    "# Accuracy 계산\n",
    "accuracy = accuracy_score(y_test, preds)\n",
    "print(\"Accuracy:\", accuracy)\n",
    "\n",
    "# F1 Score 계산\n",
    "f1 = f1_score(y_test, preds)\n",
    "print(\"F1 Score:\", f1)"
   ]
  },
  {
   "cell_type": "code",
   "execution_count": 21,
   "id": "a146882a",
   "metadata": {
    "execution": {
     "iopub.execute_input": "2023-12-06T11:12:53.770840Z",
     "iopub.status.busy": "2023-12-06T11:12:53.769816Z",
     "iopub.status.idle": "2023-12-06T11:13:02.904392Z",
     "shell.execute_reply": "2023-12-06T11:13:02.903065Z"
    },
    "papermill": {
     "duration": 9.177126,
     "end_time": "2023-12-06T11:13:02.907667",
     "exception": false,
     "start_time": "2023-12-06T11:12:53.730541",
     "status": "completed"
    },
    "tags": []
   },
   "outputs": [
    {
     "name": "stdout",
     "output_type": "stream",
     "text": [
      "PR Curve AUC: 0.71979473998669\n"
     ]
    },
    {
     "data": {
      "image/png": "[encoded data removed]",
      "text/plain": [
       "<Figure size 800x600 with 1 Axes>"
      ]
     },
     "metadata": {},
     "output_type": "display_data"
    }
   ],
   "source": [
    "# Precision과 Recall 계산\n",
    "precision, recall, _ = precision_recall_curve(y_test, clf.predict_proba(X_test.values)[:,1])\n",
    "\n",
    "# PR Curve 시각화\n",
    "plt.figure(figsize=(8, 6))\n",
    "plt.plot(recall, precision, marker='.')\n",
    "plt.xlabel('Recall')\n",
    "plt.ylabel('Precision')\n",
    "plt.title('Precision-Recall Curve')\n",
    "\n",
    "# AUC 계산\n",
    "pr_auc = auc(recall, precision)\n",
    "print(\"PR Curve AUC:\", pr_auc)"
   ]
  }
 ],
 "metadata": {
  "kaggle": {
   "accelerator": "none",
   "dataSources": [
    {
     "datasetId": 4117092,
     "sourceId": 7135242,
     "sourceType": "datasetVersion"
    }
   ],
   "dockerImageVersionId": 30587,
   "isGpuEnabled": false,
   "isInternetEnabled": true,
   "language": "python",
   "sourceType": "notebook"
  },
  "kernelspec": {
   "display_name": "Python 3",
   "language": "python",
   "name": "python3"
  },
  "language_info": {
   "codemirror_mode": {
    "name": "ipython",
    "version": 3
   },
   "file_extension": ".py",
   "mimetype": "text/x-python",
   "name": "python",
   "nbconvert_exporter": "python",
   "pygments_lexer": "ipython3",
   "version": "3.10.12"
  },
  "papermill": {
   "default_parameters": {},
   "duration": 5747.065249,
   "end_time": "2023-12-06T11:13:04.889041",
   "environment_variables": {},
   "exception": null,
   "input_path": "__notebook__.ipynb",
   "output_path": "__notebook__.ipynb",
   "parameters": {},
   "start_time": "2023-12-06T09:37:17.823792",
   "version": "2.4.0"
  }
 },
 "nbformat": 4,
 "nbformat_minor": 5
}
